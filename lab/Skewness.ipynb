{
 "cells": [
  {
   "cell_type": "markdown",
   "id": "2fe86573-dea4-403d-b9b4-5f330c534e80",
   "metadata": {},
   "source": [
    "# 🔀 偏度（Skewness）推导与理解\n",
    "\n",
    "偏度是一种衡量分布**对称性**的统计量，反映数据在平均值左右是否存在倾斜。它能揭示数据是否更偏向低值或高值，尤其在信号分析、金融波动性评估中非常重要。\n",
    "\n",
    "---\n",
    "\n",
    "## 📐 数学定义与推导\n",
    "\n",
    "设数据集为 $X = \\{x_1, x_2, ..., x_n\\}$，其平均值为 $\\mu$，标准差为 $\\sigma$，则偏度定义如下：\n",
    "\n",
    "### 1. 三阶中心矩标准化公式\n",
    "\n",
    "$$\n",
    "\\text{Skewness} = \\frac{1}{n} \\sum_{i=1}^{n} \\left( \\frac{x_i - \\mu}{\\sigma} \\right)^3\n",
    "$$\n",
    "\n",
    "- 使用 **三次方** 是为了保留“符号”（方向性）：\n",
    "  - 高值在右边 → 正偏（右偏）\n",
    "  - 低值在左边 → 负偏（左偏）\n",
    "- 对称分布（三次偏移相互抵消） → Skewness ≈ 0\n",
    "\n",
    "---\n",
    "\n",
    "## 📊 偏度的意义\n",
    "\n",
    "| 偏度值 | 分布形态     | 说明                             |\n",
    "|--------|--------------|----------------------------------|\n",
    "| > 0    | 右偏分布     | 数据向右侧（高值）倾斜，尾巴在右 |\n",
    "| < 0    | 左偏分布     | 数据向左侧（低值）倾斜，尾巴在左 |\n",
    "| = 0    | 对称分布     | 近似钟形，如正态分布              |\n",
    "\n",
    "---\n",
    "\n",
    "## ⚙️ Python 示例（使用 `scipy.stats`）\n",
    "\n",
    "```python\n",
    "import scipy.stats as stats\n",
    "\n",
    "data = [1, 2, 3, 4, 100]  # 含右偏高值\n",
    "skew_val = stats.skew(data, bias=False)\n",
    "print(\"Skewness:\", skew_val)\n"
   ]
  },
  {
   "cell_type": "code",
   "execution_count": 2,
   "id": "c09f4b89-4934-4368-9fb7-72b354ed1591",
   "metadata": {},
   "outputs": [
    {
     "name": "stdout",
     "output_type": "stream",
     "text": [
      "Skewness: 2.232395911636458\n"
     ]
    }
   ],
   "source": [
    "import scipy.stats as stats\n",
    "\n",
    "data = [1, 2, 3, 4, 100]  # 含右偏高值\n",
    "skew_val = stats.skew(data, bias=False)\n",
    "print(\"Skewness:\", skew_val)"
   ]
  },
  {
   "cell_type": "code",
   "execution_count": null,
   "id": "48f38813-7271-40c0-a5da-6fa29ab85187",
   "metadata": {},
   "outputs": [],
   "source": []
  }
 ],
 "metadata": {
  "kernelspec": {
   "display_name": "Python 3 (ipykernel)",
   "language": "python",
   "name": "python3"
  },
  "language_info": {
   "codemirror_mode": {
    "name": "ipython",
    "version": 3
   },
   "file_extension": ".py",
   "mimetype": "text/x-python",
   "name": "python",
   "nbconvert_exporter": "python",
   "pygments_lexer": "ipython3",
   "version": "3.12.1"
  }
 },
 "nbformat": 4,
 "nbformat_minor": 5
}
