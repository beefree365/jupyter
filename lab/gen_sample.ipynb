{
 "cells": [
  {
   "cell_type": "code",
   "execution_count": 24,
   "id": "1a99fc6a-82e9-4bd8-b9f0-1039bf9105ef",
   "metadata": {},
   "outputs": [],
   "source": [
    "import pandas as pd\n",
    "import numpy as np\n",
    "import matplotlib.pyplot as plt\n",
    "\n",
    "# 参数：每隔几个 group 采样一个\n",
    "step = 5  # 可修改为任意正整数\n",
    "top_num = 20\n",
    "\n",
    "# 读取数据\n",
    "df = pd.read_csv(\"InterpolatedOutput_0714_10.csv\", names=[\"x\", \"y\", \"group\"])\n",
    "\n",
    "# 保证group是int类型\n",
    "df[\"group\"] = df[\"group\"].astype(int)\n",
    "\n",
    "# 获取所有的group并排序\n",
    "group_ids = np.sort(df[\"group\"].unique())"
   ]
  },
  {
   "cell_type": "code",
   "execution_count": 25,
   "id": "9e94f05c-9c24-4076-8c94-5e8aa12535ad",
   "metadata": {},
   "outputs": [],
   "source": [
    "subgroup = group_ids.tolist()[:top_num]"
   ]
  },
  {
   "cell_type": "code",
   "execution_count": 26,
   "id": "0264019e-a0cd-46ed-8bed-325496091bbb",
   "metadata": {},
   "outputs": [
    {
     "name": "stdout",
     "output_type": "stream",
     "text": [
      "group count: 9\n"
     ]
    }
   ],
   "source": [
    "group_ids = np.sort(df[df.group.isin(subgroup)][\"group\"].unique())\n",
    "\n",
    "# 找出相邻 group 差值 > 2 的地方，划分分段\n",
    "diffs = np.diff(group_ids)\n",
    "split_indices = np.where(diffs > 2)[0] + 1\n",
    "group_segments = np.split(group_ids, split_indices)\n",
    "print(\"group count:\",  len(group_segments))\n",
    "\n",
    "# 使用列表推导获取每个数组的第一个元素\n",
    "first_elements = [segment[0] for segment in group_segments]\n",
    "\n",
    "df[df.group.isin(first_elements)].to_csv(\"sample_\"+str(len(group_segments))+\".csv\", index=False)"
   ]
  },
  {
   "cell_type": "code",
   "execution_count": null,
   "id": "b2be96a0-f7f1-45ae-824a-01143e276532",
   "metadata": {},
   "outputs": [],
   "source": []
  }
 ],
 "metadata": {
  "kernelspec": {
   "display_name": "Python 3 (ipykernel)",
   "language": "python",
   "name": "python3"
  },
  "language_info": {
   "codemirror_mode": {
    "name": "ipython",
    "version": 3
   },
   "file_extension": ".py",
   "mimetype": "text/x-python",
   "name": "python",
   "nbconvert_exporter": "python",
   "pygments_lexer": "ipython3",
   "version": "3.12.1"
  }
 },
 "nbformat": 4,
 "nbformat_minor": 5
}
