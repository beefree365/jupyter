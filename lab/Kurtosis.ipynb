{
 "cells": [
  {
   "cell_type": "markdown",
   "id": "4ee6e84e-ea35-46e4-9777-96fed36fa77a",
   "metadata": {},
   "source": [
    "\n",
    "\n",
    "# 📐 峰度（Kurtosis）推导与理解\n",
    "\n",
    "峰度是一种衡量分布形状尖锐程度的统计量，特别反映尾部厚度和异常值集中度。\n",
    "\n",
    "---\n",
    "\n",
    "## 🧮 数学推导公式\n",
    "\n",
    "### 1. 原始定义：四阶中心矩标准化\n",
    "定义一组数据：$X = \\{x_1, x_2, ..., x_n\\}$，其均值为 $\\mu$，标准差为 $\\sigma$\n",
    "\n",
    "四阶中心矩公式： $$ \\mu_4 = \\frac{1}{n} \\sum_{i=1}^{n} (x_i - \\mu)^4 $$\n",
    "\n",
    "标准化处理（使不同数据集可比）： $$ \\text{Kurtosis} = \\frac{\\mu_4}{\\sigma^4} = \\frac{1}{n} \\sum_{i=1}^{n} \\left( \\frac{x_i - \\mu}{\\sigma} \\right)^4 $$\n",
    "\n",
    "这就是峰度的原始定义，它计算的是每个点与均值的标准化距离的四次方平均。\n",
    "\n",
    "- 表示所有数据点与均值之间标准化距离的四次方平均值\n",
    "- 四次方放大远离均值的数据点影响，强调尾部行为\n",
    "\n",
    "---\n",
    "\n",
    "### 2. 过峰度（Excess Kurtosis）：偏离正态分布的程度\n",
    "\n",
    "标准正态分布峰度为 3，因此我们定义“过峰度”：\n",
    "\n",
    "$$\n",
    "\\text{Excess Kurtosis} = \\frac{1}{n} \\sum_{i=1}^{n} \\left( \\frac{x_i - \\mu}{\\sigma} \\right)^4 - 3\n",
    "$$\n",
    "\n",
    "- **结果 > 0**：尖峰重尾（异常值多）\n",
    "- **结果 < 0**：平坦分布（数据分散）\n",
    "- **结果 = 0**：近似正态分布\n",
    "\n",
    "---\n",
    "\n",
    "\n"
   ]
  },
  {
   "cell_type": "markdown",
   "id": "8cfe5a74-18d8-4397-9c2b-5aff710e83b8",
   "metadata": {},
   "source": [
    "## ⚙️ Python 示例（使用 `scipy.stats`）\n"
   ]
  },
  {
   "cell_type": "code",
   "execution_count": 1,
   "id": "9a047efb-3051-46a0-9567-5eb90cd2462c",
   "metadata": {},
   "outputs": [
    {
     "name": "stdout",
     "output_type": "stream",
     "text": [
      "Excess Kurtosis: 5.98250897323009\n"
     ]
    }
   ],
   "source": [
    "import scipy.stats as stats\n",
    "\n",
    "data = [12, 15, 14, 13, 14, 100]  # 含极端高值\n",
    "kurt_val = stats.kurtosis(data, fisher=True, bias=False)\n",
    "print(\"Excess Kurtosis:\", kurt_val)"
   ]
  },
  {
   "cell_type": "code",
   "execution_count": null,
   "id": "a5590e9a-fc29-4bf3-99ad-2c0192f6b666",
   "metadata": {},
   "outputs": [],
   "source": []
  }
 ],
 "metadata": {
  "kernelspec": {
   "display_name": "Python 3 (ipykernel)",
   "language": "python",
   "name": "python3"
  },
  "language_info": {
   "codemirror_mode": {
    "name": "ipython",
    "version": 3
   },
   "file_extension": ".py",
   "mimetype": "text/x-python",
   "name": "python",
   "nbconvert_exporter": "python",
   "pygments_lexer": "ipython3",
   "version": "3.12.1"
  }
 },
 "nbformat": 4,
 "nbformat_minor": 5
}
